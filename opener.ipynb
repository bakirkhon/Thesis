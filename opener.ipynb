{
 "cells": [
  {
   "cell_type": "code",
   "execution_count": 2,
   "id": "4d5e0896",
   "metadata": {},
   "outputs": [
    {
     "name": "stdout",
     "output_type": "stream",
     "text": [
      "(Data(x=[21642, 3], edge_index=[2, 38044], edge_attr=[38044, 3], y=[1310, 1], n_nodes=[1310]), defaultdict(<class 'dict'>, {'x': tensor([    0,    21,    36,  ..., 21606, 21624, 21642]), 'edge_index': tensor([    0,    38,    64,  ..., 37980, 38012, 38044]), 'edge_attr': tensor([    0,    38,    64,  ..., 37980, 38012, 38044]), 'y': tensor([   0,    1,    2,  ..., 1308, 1309, 1310]), 'n_nodes': tensor([   0,    1,    2,  ..., 1308, 1309, 1310])}))\n"
     ]
    }
   ],
   "source": [
    "import torch\n",
    "\n",
    "file_path = '/home/bakirkhon/Thesis/data/famipacking/processed/train.pt'\n",
    "data = torch.load(file_path)\n",
    "\n",
    "print(data)\n"
   ]
  }
 ],
 "metadata": {
  "kernelspec": {
   "display_name": "digress",
   "language": "python",
   "name": "python3"
  },
  "language_info": {
   "codemirror_mode": {
    "name": "ipython",
    "version": 3
   },
   "file_extension": ".py",
   "mimetype": "text/x-python",
   "name": "python",
   "nbconvert_exporter": "python",
   "pygments_lexer": "ipython3",
   "version": "3.9.23"
  }
 },
 "nbformat": 4,
 "nbformat_minor": 5
}
