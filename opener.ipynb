{
 "cells": [
  {
   "cell_type": "code",
   "execution_count": 1,
   "id": "4c018281",
   "metadata": {},
   "outputs": [
    {
     "name": "stdout",
     "output_type": "stream",
     "text": [
      "Data(x=[21642, 3], edge_index=[2, 38044], edge_attr=[38044, 3], y=[1310, 0], n_nodes=[1310])\n"
     ]
    }
   ],
   "source": [
    "import torch\n",
    "\n",
    "file_path = '/home/bakirkhon/Thesis/data/famipacking/processed/train.pt'\n",
    "data = torch.load(file_path)\n",
    "\n",
    "print(data[0])\n"
   ]
  }
 ],
 "metadata": {
  "kernelspec": {
   "display_name": "digress",
   "language": "python",
   "name": "python3"
  },
  "language_info": {
   "codemirror_mode": {
    "name": "ipython",
    "version": 3
   },
   "file_extension": ".py",
   "mimetype": "text/x-python",
   "name": "python",
   "nbconvert_exporter": "python",
   "pygments_lexer": "ipython3",
   "version": "3.9.23"
  }
 },
 "nbformat": 4,
 "nbformat_minor": 5
}
